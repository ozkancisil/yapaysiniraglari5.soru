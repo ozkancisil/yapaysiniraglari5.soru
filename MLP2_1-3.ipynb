{
  "nbformat": 4,
  "nbformat_minor": 0,
  "metadata": {
    "colab": {
      "provenance": []
    },
    "kernelspec": {
      "name": "python3",
      "display_name": "Python 3"
    },
    "language_info": {
      "name": "python"
    },
    "accelerator": "GPU",
    "gpuClass": "standard"
  },
  "cells": [
    {
      "cell_type": "code",
      "execution_count": 1,
      "metadata": {
        "id": "88j2T-ZWOhxv"
      },
      "outputs": [],
      "source": [
        "import torch\n",
        "import torch.nn as nn\n",
        "import torch.optim as optim\n",
        "import numpy as np\n",
        "import pandas as pd\n",
        "import datetime"
      ]
    },
    {
      "cell_type": "code",
      "source": [
        "runtime = datetime.datetime.now() # first run"
      ],
      "metadata": {
        "id": "wPPpQhcS9whb"
      },
      "execution_count": 2,
      "outputs": []
    },
    {
      "cell_type": "code",
      "source": [
        "# Yüklenen dosyayı okuma\n",
        "train_df = pd.read_csv(\"cure_the_princess_train.csv\")\n",
        "test_df = pd.read_csv(\"cure_the_princess_test.csv\")\n",
        "validation_df = pd.read_csv(\"cure_the_princess_validation.csv\")"
      ],
      "metadata": {
        "id": "RS3Q9whbOprh"
      },
      "execution_count": 3,
      "outputs": []
    },
    {
      "cell_type": "code",
      "source": [
        "# Seed ayarlama\n",
        "torch.manual_seed(180401043)\n",
        "# Batch size seçilir\n",
        "batch_size = 16\n",
        "\n",
        "from torch.utils.data import DataLoader, TensorDataset\n",
        "\n",
        "# TensorDataset kullanarak train, test ve validation setlerini oluşturuyoruz\n",
        "train_inputs = train_df.drop('Cured', axis=1).values\n",
        "train_labels = train_df['Cured'].values\n",
        "train_dataset = TensorDataset(torch.tensor(train_inputs, dtype=torch.float), torch.tensor(train_labels, dtype=torch.long))\n",
        "\n",
        "val_inputs = validation_df.drop('Cured', axis=1).values\n",
        "val_labels = validation_df['Cured'].values\n",
        "val_dataset = TensorDataset(torch.tensor(val_inputs, dtype=torch.float), torch.tensor(val_labels, dtype=torch.long))\n",
        "\n",
        "test_inputs = test_df.drop('Cured', axis=1).values\n",
        "test_labels = test_df['Cured'].values\n",
        "test_dataset = TensorDataset(torch.tensor(test_inputs, dtype=torch.float), torch.tensor(test_labels, dtype=torch.long))\n",
        "\n",
        "# DataLoader kullanarak train, test ve validation setlerini batch'ler halinde modele veriyoruz\n",
        "train_loader = DataLoader(train_dataset, batch_size=batch_size, shuffle=True) # Train veri yükleyici (DataLoader) - veriyi batch'ler halinde yükler, karıştırır\n",
        "test_loader = DataLoader(test_dataset, batch_size=batch_size) # Test veri yükleyici (DataLoader) - veriyi batch'ler halinde yükler\n",
        "val_loader = DataLoader(val_dataset, batch_size=batch_size) # Validation veri yükleyici (DataLoader) - veriyi batch'ler halinde yükler\n"
      ],
      "metadata": {
        "id": "WF798noSPN8C"
      },
      "execution_count": 4,
      "outputs": []
    },
    {
      "cell_type": "code",
      "source": [
        "# Modeli oluşturma\n",
        "class MLP(nn.Module):\n",
        "    def __init__(self, input_size, hidden_size1, hidden_size2, output_size):\n",
        "        super(MLP, self).__init__()\n",
        "        self.fc1 = nn.Linear(input_size, hidden_size1)\n",
        "        self.fc2 = nn.Linear(hidden_size1, hidden_size2)\n",
        "        self.fc3 = nn.Linear(hidden_size2, output_size)\n",
        "        self.relu = nn.ReLU()\n",
        "        self.sigmoid = nn.Sigmoid()\n",
        "\n",
        "    def forward(self, x):\n",
        "        out = self.fc1(x)\n",
        "        out = self.relu(out)\n",
        "        out = self.fc2(out)\n",
        "        out = self.relu(out)\n",
        "        out = self.fc3(out)\n",
        "        out = self.sigmoid(out)\n",
        "        return out"
      ],
      "metadata": {
        "id": "eVYINp9ePJOH"
      },
      "execution_count": 5,
      "outputs": []
    },
    {
      "cell_type": "code",
      "source": [
        "input_size=len(train_df.columns) - 1\n",
        "hidden_size1=100\n",
        "hidden_size2=50\n",
        "output_size=2\n",
        "# GPU ve CPU için\n",
        "device = torch.device('cuda' if torch.cuda.is_available() else 'cpu')\n",
        "# Model tanımlama\n",
        "model = MLP(input_size, hidden_size1, hidden_size2, output_size).to(device)"
      ],
      "metadata": {
        "id": "Myujto-SRxeF"
      },
      "execution_count": 6,
      "outputs": []
    },
    {
      "cell_type": "code",
      "source": [
        "#Loss fonksiyonu belirliyoruz\n",
        "criterion = nn.CrossEntropyLoss()\n",
        "\n",
        "#Optimizasyon yöntemi ve parametreleri belirliyoruz\n",
        "optimizer = torch.optim.SGD(model.parameters(), lr=0.001)"
      ],
      "metadata": {
        "id": "EM_8c9lBR5wu"
      },
      "execution_count": 7,
      "outputs": []
    },
    {
      "cell_type": "code",
      "source": [
        "num_epochs = 50\n",
        "train_acc_list = [] # Train doğruluk (accuracy) listesi\n",
        "val_acc_list = [] # Validation doğruluk (accuracy) listesi\n",
        "train_loss_list = [] # Train kaybı (loss) listesi\n",
        "val_loss_list = [] # Validation kaybı (loss) listesi\n",
        "\n",
        "best_val_acc = 0.0 # En iyi doğruluk değeri\n",
        "patience = 5 # Sabır seviyesi, epoch sayısı\n",
        "\n",
        "for epoch in range(num_epochs):\n",
        "    # Train the model\n",
        "    model.train()\n",
        "    correct=0\n",
        "    train_loss = 0 # Train kaybı (loss) başlangıç değeri\n",
        "    total_train = 0 # Toplam train veri sayısı\n",
        "    for i, (inputs, labels) in enumerate(train_loader):\n",
        "        # Move data to device\n",
        "        inputs = inputs.to(device)\n",
        "        labels = labels.to(device)\n",
        "\n",
        "        # Forward pass\n",
        "        outputs = model(inputs)\n",
        "        loss = criterion(outputs, labels)\n",
        "\n",
        "        # Backward and optimize\n",
        "        optimizer.zero_grad()\n",
        "        loss.backward()\n",
        "        optimizer.step()\n",
        "\n",
        "        # Print loss every few iterations\n",
        "        if (i + 1) % 100 == 0:\n",
        "            print(f\"Epoch [{epoch+1}/{num_epochs}], Iteration [{i+1}/{len(train_loader)}], Loss: {loss.item():.4f}\")\n",
        "        train_loss += loss.item() * inputs.size(0)\n",
        "        total_train += inputs.size(0)\n",
        "        \n",
        "        # Calculate accuracy\n",
        "        _, predicted = torch.max(outputs.data, 1)  # Değişiklik burada\n",
        "        correct += (predicted == labels).sum().item()\n",
        "    \n",
        "    # Calculate train accuracy\n",
        "    train_acc = correct / total_train\n",
        "    train_acc_list.append(train_acc)\n",
        "    train_loss /= total_train\n",
        "    train_loss_list.append(train_loss)\n",
        "\n",
        "    # Evaluate the model on validation set every epoch\n",
        "    model.eval()\n",
        "    with torch.no_grad():\n",
        "        correct = 0\n",
        "        total = 0\n",
        "        val_loss = 0 # Validation kaybı (loss) başlangıç değeri\n",
        "        for inputs, labels in val_loader:\n",
        "            # Move data to device\n",
        "            inputs = inputs.to(device)\n",
        "            labels = labels.to(device)\n",
        "\n",
        "            # Forward pass\n",
        "            outputs = model(inputs)\n",
        "            loss = criterion(outputs, labels)\n",
        "\n",
        "            # Calculate accuracy\n",
        "            _, predicted = torch.max(outputs.data, 1)  # Değişiklik burada\n",
        "            total += labels.size(0)\n",
        "            correct += (predicted == labels).sum().item()\n",
        "            \n",
        "            val_loss += loss.item() * inputs.size(0)\n",
        "\n",
        "        val_acc = correct / total\n",
        "        val_acc_list.append(val_acc)\n",
        "        val_loss /= total\n",
        "        val_loss_list.append(val_loss)\n",
        "\n",
        "        print(f\"Epoch [{epoch+1}/{num_epochs}], Train Loss: {train_loss:.4f}, Train Acc: {train_acc:.4f}, Val Loss: {val_loss:.4f}, Val Acc: {val_acc:.4f}\")\n",
        "\n",
        "          # Early stopping\n",
        "    if val_acc > best_val_acc:\n",
        "        best_val_acc = val_acc\n",
        "        counter = 0\n",
        "    else:\n",
        "        counter += 1\n",
        "\n",
        "    if counter >= patience:\n",
        "        print(f\"Validation accuracy after epoch {epoch+1}: {val_acc:.4f}\")\n",
        "        break"
      ],
      "metadata": {
        "colab": {
          "base_uri": "https://localhost:8080/"
        },
        "id": "cMnE0qT30NDB",
        "outputId": "2f24d080-6e16-49b5-c3c2-75c301fac803"
      },
      "execution_count": 8,
      "outputs": [
        {
          "output_type": "stream",
          "name": "stdout",
          "text": [
            "Epoch [1/50], Train Loss: 0.7222, Train Acc: 0.5080, Val Loss: 0.7036, Val Acc: 0.4968\n",
            "Epoch [2/50], Train Loss: 0.6887, Train Acc: 0.5455, Val Loss: 0.6766, Val Acc: 0.5732\n",
            "Epoch [3/50], Train Loss: 0.6723, Train Acc: 0.6190, Val Loss: 0.6621, Val Acc: 0.6306\n",
            "Epoch [4/50], Train Loss: 0.6598, Train Acc: 0.6629, Val Loss: 0.6485, Val Acc: 0.6911\n",
            "Epoch [5/50], Train Loss: 0.6479, Train Acc: 0.7085, Val Loss: 0.6360, Val Acc: 0.7134\n",
            "Epoch [6/50], Train Loss: 0.6372, Train Acc: 0.7300, Val Loss: 0.6245, Val Acc: 0.7516\n",
            "Epoch [7/50], Train Loss: 0.6274, Train Acc: 0.7460, Val Loss: 0.6147, Val Acc: 0.7707\n",
            "Epoch [8/50], Train Loss: 0.6186, Train Acc: 0.7596, Val Loss: 0.6053, Val Acc: 0.7898\n",
            "Epoch [9/50], Train Loss: 0.6099, Train Acc: 0.7684, Val Loss: 0.5936, Val Acc: 0.8185\n",
            "Epoch [10/50], Train Loss: 0.6014, Train Acc: 0.7835, Val Loss: 0.5845, Val Acc: 0.8248\n",
            "Epoch [11/50], Train Loss: 0.5936, Train Acc: 0.7923, Val Loss: 0.5753, Val Acc: 0.8248\n",
            "Epoch [12/50], Train Loss: 0.5860, Train Acc: 0.7907, Val Loss: 0.5683, Val Acc: 0.8312\n",
            "Epoch [13/50], Train Loss: 0.5786, Train Acc: 0.7979, Val Loss: 0.5598, Val Acc: 0.8439\n",
            "Epoch [14/50], Train Loss: 0.5718, Train Acc: 0.8035, Val Loss: 0.5516, Val Acc: 0.8439\n",
            "Epoch [15/50], Train Loss: 0.5653, Train Acc: 0.8131, Val Loss: 0.5450, Val Acc: 0.8471\n",
            "Epoch [16/50], Train Loss: 0.5591, Train Acc: 0.8179, Val Loss: 0.5380, Val Acc: 0.8535\n",
            "Epoch [17/50], Train Loss: 0.5531, Train Acc: 0.8227, Val Loss: 0.5316, Val Acc: 0.8535\n",
            "Epoch [18/50], Train Loss: 0.5474, Train Acc: 0.8219, Val Loss: 0.5243, Val Acc: 0.8662\n",
            "Epoch [19/50], Train Loss: 0.5424, Train Acc: 0.8275, Val Loss: 0.5184, Val Acc: 0.8662\n",
            "Epoch [20/50], Train Loss: 0.5371, Train Acc: 0.8243, Val Loss: 0.5130, Val Acc: 0.8726\n",
            "Epoch [21/50], Train Loss: 0.5323, Train Acc: 0.8307, Val Loss: 0.5076, Val Acc: 0.8726\n",
            "Epoch [22/50], Train Loss: 0.5278, Train Acc: 0.8339, Val Loss: 0.5026, Val Acc: 0.8790\n",
            "Epoch [23/50], Train Loss: 0.5236, Train Acc: 0.8339, Val Loss: 0.4986, Val Acc: 0.8726\n",
            "Epoch [24/50], Train Loss: 0.5194, Train Acc: 0.8355, Val Loss: 0.4955, Val Acc: 0.8822\n",
            "Epoch [25/50], Train Loss: 0.5154, Train Acc: 0.8403, Val Loss: 0.4894, Val Acc: 0.8822\n",
            "Epoch [26/50], Train Loss: 0.5120, Train Acc: 0.8442, Val Loss: 0.4852, Val Acc: 0.8822\n",
            "Epoch [27/50], Train Loss: 0.5084, Train Acc: 0.8490, Val Loss: 0.4825, Val Acc: 0.9013\n",
            "Epoch [28/50], Train Loss: 0.5050, Train Acc: 0.8506, Val Loss: 0.4777, Val Acc: 0.8822\n",
            "Epoch [29/50], Train Loss: 0.5014, Train Acc: 0.8562, Val Loss: 0.4759, Val Acc: 0.8949\n",
            "Epoch [30/50], Train Loss: 0.4986, Train Acc: 0.8554, Val Loss: 0.4715, Val Acc: 0.9013\n",
            "Epoch [31/50], Train Loss: 0.4956, Train Acc: 0.8578, Val Loss: 0.4690, Val Acc: 0.8981\n",
            "Epoch [32/50], Train Loss: 0.4929, Train Acc: 0.8594, Val Loss: 0.4647, Val Acc: 0.9013\n",
            "Validation accuracy after epoch 32: 0.9013\n"
          ]
        }
      ]
    },
    {
      "cell_type": "code",
      "source": [
        "from sklearn.metrics import accuracy_score, precision_score, f1_score, recall_score\n",
        "\n",
        "# Train ve validation setlerinden elde edilen tahminler\n",
        "train_preds = []\n",
        "val_preds = []\n",
        "\n",
        "# Train seti için tahminleri topla\n",
        "for inputs, labels in train_loader:\n",
        "    inputs = inputs.to(device)\n",
        "    labels = labels.to(device)\n",
        "    outputs = model(inputs)\n",
        "    _, predicted = torch.max(outputs.data, 1)\n",
        "    train_preds.extend(predicted.cpu().numpy())\n",
        "\n",
        "# Validation seti için tahminleri topla\n",
        "for inputs, labels in val_loader:\n",
        "    inputs = inputs.to(device)\n",
        "    labels = labels.to(device)\n",
        "    outputs = model(inputs)\n",
        "    _, predicted = torch.max(outputs.data, 1)\n",
        "    val_preds.extend(predicted.cpu().numpy())\n",
        "\n",
        "# Gerçek etiketleri topla\n",
        "train_labels = []\n",
        "val_labels = []\n",
        "for _, labels in train_loader:\n",
        "    train_labels.extend(labels.numpy())\n",
        "    \n",
        "for _, labels in val_loader:\n",
        "    val_labels.extend(labels.numpy())\n",
        "\n",
        "# Accuracy hesapla\n",
        "train_acc = accuracy_score(train_labels, train_preds)\n",
        "val_acc = accuracy_score(val_labels, val_preds)\n",
        "\n",
        "# Precision hesapla\n",
        "train_precision = precision_score(train_labels, train_preds, average='weighted')\n",
        "val_precision = precision_score(val_labels, val_preds, average='weighted')\n",
        "\n",
        "# F1 score hesapla\n",
        "train_f1 = f1_score(train_labels, train_preds, average='weighted')\n",
        "val_f1 = f1_score(val_labels, val_preds, average='weighted')\n",
        "\n",
        "# Recall hesapla\n",
        "train_recall = recall_score(train_labels, train_preds, average='weighted')\n",
        "val_recall = recall_score(val_labels, val_preds, average='weighted')\n",
        "\n",
        "# Sonuçları yazdır\n",
        "print(f\"Train Accuracy: {train_acc:.4f}, Train Precision: {train_precision:.4f}, Train F1 Score: {train_f1:.4f}, Train Recall: {train_recall:.4f}\")\n",
        "print(f\"Validation Accuracy: {val_acc:.4f}, Validation Precision: {val_precision:.4f}, Validation F1 Score: {val_f1:.4f}, Validation Recall: {val_recall:.4f}\")\n"
      ],
      "metadata": {
        "colab": {
          "base_uri": "https://localhost:8080/"
        },
        "id": "pM3Dx5AB2meB",
        "outputId": "c42af653-a991-47b1-918b-41ac5beebba2"
      },
      "execution_count": 9,
      "outputs": [
        {
          "output_type": "stream",
          "name": "stdout",
          "text": [
            "Train Accuracy: 0.5096, Train Precision: 0.5102, Train F1 Score: 0.5092, Train Recall: 0.5096\n",
            "Validation Accuracy: 0.9013, Validation Precision: 0.9026, Validation F1 Score: 0.9012, Validation Recall: 0.9013\n"
          ]
        }
      ]
    },
    {
      "cell_type": "code",
      "source": [
        "from sklearn.metrics import accuracy_score, precision_score, f1_score, recall_score\n",
        "\n",
        "# Test seti için tahminleri topla\n",
        "test_preds = []\n",
        "test_labels = []\n",
        "model.eval() # Modeli değerlendirme moduna getir\n",
        "with torch.no_grad(): # Gradyan hesaplamalarını kapat\n",
        "    for inputs, labels in test_loader:\n",
        "       inputs = inputs.to(device)\n",
        "       labels = labels.to(device)\n",
        "       outputs = model(inputs)\n",
        "       _, predicted = torch.max(outputs.data, 1)\n",
        "       test_preds.extend(predicted.cpu().numpy())\n",
        "       test_labels.extend(labels.cpu().numpy())\n",
        "\n",
        "\n",
        "# Accuracy hesapla\n",
        "test_acc = accuracy_score(test_labels, test_preds)\n",
        "\n",
        "# Precision hesapla\n",
        "test_precision = precision_score(test_labels, test_preds)\n",
        "\n",
        "# F1 score hesapla\n",
        "test_f1 = f1_score(test_labels, test_preds)\n",
        "\n",
        "# Recall hesapla\n",
        "test_recall = recall_score(test_labels, test_preds)\n",
        "\n",
        "# Sonuçları yazdır\n",
        "print(f\"Test Accuracy: {test_acc:.4f}, Test Precision: {test_precision:.4f}, Test F1 Score: {test_f1:.4f}, Test Recall: {test_recall:.4f}\")\n",
        "print(test_dataset[1])\n",
        "inputs = test_dataset[1][0].to(device)  # inputs tensörünü uygun cihaza taşı\n",
        "outputs = model(inputs)\n",
        "print(outputs)\n",
        "\n",
        "\n"
      ],
      "metadata": {
        "colab": {
          "base_uri": "https://localhost:8080/"
        },
        "id": "vQ9RQHkA3CR5",
        "outputId": "8d52bf72-6b40-4159-dc8d-8bd6b4c25652"
      },
      "execution_count": 10,
      "outputs": [
        {
          "output_type": "stream",
          "name": "stdout",
          "text": [
            "Test Accuracy: 0.8459, Test Precision: 0.8321, Test F1 Score: 0.8499, Test Recall: 0.8686\n",
            "(tensor([31.6000,  1.9000, 25.2000, 17.9000, 16.4000,  2.4000,  4.2000,  6.4000,\n",
            "        32.5000, 21.9000, 19.7000, 12.4000, 17.4000]), tensor(1))\n",
            "tensor([0.1030, 0.7652], device='cuda:0', grad_fn=<SigmoidBackward0>)\n"
          ]
        }
      ]
    },
    {
      "cell_type": "code",
      "source": [
        "import matplotlib.pyplot as plt\n",
        "num_epochs=32\n",
        "# Loss değerlerini görselleştir\n",
        "plt.figure(figsize=(10, 5))\n",
        "plt.plot(range(1, num_epochs+1), train_loss_list, label='Train Loss')\n",
        "plt.plot(range(1, num_epochs+1), val_loss_list, label='Validation Loss')\n",
        "plt.xlabel('Epoch')\n",
        "plt.ylabel('Loss')\n",
        "plt.title('Train Loss and Validation Loss')\n",
        "plt.legend()\n",
        "plt.show()\n"
      ],
      "metadata": {
        "colab": {
          "base_uri": "https://localhost:8080/",
          "height": 487
        },
        "id": "Ox77tfLL5KY9",
        "outputId": "5d6bcf12-cbc9-4185-a64b-de6fee2e1920"
      },
      "execution_count": 12,
      "outputs": [
        {
          "output_type": "display_data",
          "data": {
            "text/plain": [
              "<Figure size 1000x500 with 1 Axes>"
            ],
            "image/png": "[encoded data removed]"
          },
          "metadata": {}
        }
      ]
    },
    {
      "cell_type": "code",
      "source": [
        "runtime2 = datetime.datetime.now() # end run\n",
        "print(f\"Kodun çalışma süresi: {device} \", runtime2-runtime)"
      ],
      "metadata": {
        "id": "tTNU7Vvn-CxQ"
      },
      "execution_count": null,
      "outputs": []
    }
  ]
}